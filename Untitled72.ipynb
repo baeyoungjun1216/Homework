{
  "nbformat": 4,
  "nbformat_minor": 0,
  "metadata": {
    "colab": {
      "provenance": [],
      "authorship_tag": "ABX9TyMA9TKyjENGJLhr3g5nrYyX",
      "include_colab_link": true
    },
    "kernelspec": {
      "name": "python3",
      "display_name": "Python 3"
    },
    "language_info": {
      "name": "python"
    }
  },
  "cells": [
    {
      "cell_type": "markdown",
      "metadata": {
        "id": "view-in-github",
        "colab_type": "text"
      },
      "source": [
        "<a href=\"https://colab.research.google.com/github/baeyoungjun1216/Homework/blob/main/Untitled72.ipynb\" target=\"_parent\"><img src=\"https://colab.research.google.com/assets/colab-badge.svg\" alt=\"Open In Colab\"/></a>"
      ]
    },
    {
      "cell_type": "code",
      "execution_count": null,
      "metadata": {
        "id": "JvTHZAhkOO-3"
      },
      "outputs": [],
      "source": [
        "strData1 = 'I love python!'    # 유니코드 문자열\n",
        "strData2 = '사랑해요 파이썬!'  # 유니코드 문자열\n",
        "strData3 = \"\"\"A lot of things\n",
        "occur each day.\"\"\"              # 유니코드 문자열"
      ]
    }
  ]
}