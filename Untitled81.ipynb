{
  "nbformat": 4,
  "nbformat_minor": 0,
  "metadata": {
    "colab": {
      "provenance": [],
      "authorship_tag": "ABX9TyMws6+lP5I/ithDkAu4HKtE",
      "include_colab_link": true
    },
    "kernelspec": {
      "name": "python3",
      "display_name": "Python 3"
    },
    "language_info": {
      "name": "python"
    }
  },
  "cells": [
    {
      "cell_type": "markdown",
      "metadata": {
        "id": "view-in-github",
        "colab_type": "text"
      },
      "source": [
        "<a href=\"https://colab.research.google.com/github/baeyoungjun1216/Homework/blob/main/Untitled81.ipynb\" target=\"_parent\"><img src=\"https://colab.research.google.com/assets/colab-badge.svg\" alt=\"Open In Colab\"/></a>"
      ]
    },
    {
      "cell_type": "code",
      "execution_count": null,
      "metadata": {
        "id": "lmUW2HKnSLS_"
      },
      "outputs": [],
      "source": [
        "profile = ['홍길동', '남자', '18세', '도적', '초능력자']\n",
        "logData = ':'.join(profile)\n",
        "print(logData)\n",
        "\n",
        "profile = ['홍길동', '남자', 18, '도적', '초능력자']\n",
        "logData = ':'.join(profile)"
      ]
    }
  ]
}