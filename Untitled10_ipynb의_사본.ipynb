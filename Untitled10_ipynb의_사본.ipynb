{
  "nbformat": 4,
  "nbformat_minor": 0,
  "metadata": {
    "colab": {
      "provenance": [],
      "authorship_tag": "ABX9TyOZsI4i4JxDSwTihJ2egiB7",
      "include_colab_link": true
    },
    "kernelspec": {
      "name": "python3",
      "display_name": "Python 3"
    },
    "language_info": {
      "name": "python"
    }
  },
  "cells": [
    {
      "cell_type": "markdown",
      "metadata": {
        "id": "view-in-github",
        "colab_type": "text"
      },
      "source": [
        "<a href=\"https://colab.research.google.com/github/baeyoungjun1216/Homework/blob/main/Untitled10_ipynb%EC%9D%98_%EC%82%AC%EB%B3%B8.ipynb\" target=\"_parent\"><img src=\"https://colab.research.google.com/assets/colab-badge.svg\" alt=\"Open In Colab\"/></a>"
      ]
    },
    {
      "cell_type": "code",
      "execution_count": null,
      "metadata": {
        "id": "othKfkP44etz"
      },
      "outputs": [],
      "source": [
        "name = '홍길동'\n",
        "age = 17\n",
        "weight = 70.7\n",
        "is_badman = False\n",
        "\n",
        "name:str = '홍길동'\n",
        "age:int = 17\n",
        "weight:float = 70.7\n",
        "is_badman:bool = False\n",
        "\n",
        "booklist:list[str] = ['삼국지','수호자','초한지']\n",
        "\n",
        "island:tuple[str,float,float] = ('독도',131,52,37,14)\n",
        "\n",
        "top4_familyname:dict[str.int]={'김씨':123456.'나씨':345811,'박씨':963123,'이씨':865909}\n",
        "\n",
        "fruits:set[str]={'사과','배','수박','참외','딸기'}\n",
        "\n",
        "print(_annotations_)\n",
        "\n",
        "fruits:set[str]={'사과','배','수박','참외','딸기'}\n",
        "fruits = {1,2,3,4,5}\n",
        "print(fruits)"
      ]
    }
  ]
}