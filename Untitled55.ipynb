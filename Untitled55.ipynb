{
  "nbformat": 4,
  "nbformat_minor": 0,
  "metadata": {
    "colab": {
      "provenance": [],
      "authorship_tag": "ABX9TyNkxHk7CUmKAeTgtlgeD8Bd",
      "include_colab_link": true
    },
    "kernelspec": {
      "name": "python3",
      "display_name": "Python 3"
    },
    "language_info": {
      "name": "python"
    }
  },
  "cells": [
    {
      "cell_type": "markdown",
      "metadata": {
        "id": "view-in-github",
        "colab_type": "text"
      },
      "source": [
        "<a href=\"https://colab.research.google.com/github/baeyoungjun1216/Homework/blob/main/Untitled55.ipynb\" target=\"_parent\"><img src=\"https://colab.research.google.com/assets/colab-badge.svg\" alt=\"Open In Colab\"/></a>"
      ]
    },
    {
      "cell_type": "code",
      "execution_count": null,
      "metadata": {
        "id": "mCO6qabdF2-L"
      },
      "outputs": [],
      "source": [
        "fruits = ('사과', '배', '오렌지', '수박')\n",
        "ret = reversed(fruits)\n",
        "print(list(ret))\n",
        "\n",
        "print(fruits)\n",
        "\n",
        "for i in reversed(range(1, 6)):\n",
        "    print(i)"
      ]
    }
  ]
}