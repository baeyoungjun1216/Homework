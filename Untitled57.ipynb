{
  "nbformat": 4,
  "nbformat_minor": 0,
  "metadata": {
    "colab": {
      "provenance": [],
      "authorship_tag": "ABX9TyN9vk/qptiYUdVE7j78FfJB",
      "include_colab_link": true
    },
    "kernelspec": {
      "name": "python3",
      "display_name": "Python 3"
    },
    "language_info": {
      "name": "python"
    }
  },
  "cells": [
    {
      "cell_type": "markdown",
      "metadata": {
        "id": "view-in-github",
        "colab_type": "text"
      },
      "source": [
        "<a href=\"https://colab.research.google.com/github/baeyoungjun1216/Homework/blob/main/Untitled57.ipynb\" target=\"_parent\"><img src=\"https://colab.research.google.com/assets/colab-badge.svg\" alt=\"Open In Colab\"/></a>"
      ]
    },
    {
      "cell_type": "code",
      "execution_count": null,
      "metadata": {
        "id": "YckfZfCcIQjN"
      },
      "outputs": [],
      "source": [
        "fruits = ['사과', '배', '오렌지', '수박', '참외']\n",
        "del fruits[1]\n",
        "print(fruits)\n",
        "del fruits[-1]\n",
        "print(fruits)\n",
        "\n",
        "solarsys = ['태양', '수성', '금성', '지구', '화성', '소행성대', '목성', '토성']\n",
        "del solarsys[4:6]\n",
        "print(solarsys)\n",
        "\n",
        "del solarsys[:]\n",
        "print(solarsys)\n",
        "\n",
        "solarsys = ['태양', '수성', '금성', '지구', '화성', '소행성대', '목성', '토성']\n",
        "if '소행성대' in solarsys:\n",
        "    idx = solarsys.index('소행성대')\n",
        "    del solarsys[idx]\n",
        "\n",
        "print(solarsys)\n",
        "\n",
        "fruits = ['사과', '배', '오렌지', '수박', '참외']\n",
        "del fruits\n",
        "print(fruits)"
      ]
    }
  ]
}