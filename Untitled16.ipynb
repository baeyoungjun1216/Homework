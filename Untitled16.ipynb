{
  "nbformat": 4,
  "nbformat_minor": 0,
  "metadata": {
    "colab": {
      "provenance": [],
      "authorship_tag": "ABX9TyMOYVFnSssraCnmy3YRO39k",
      "include_colab_link": true
    },
    "kernelspec": {
      "name": "python3",
      "display_name": "Python 3"
    },
    "language_info": {
      "name": "python"
    }
  },
  "cells": [
    {
      "cell_type": "markdown",
      "metadata": {
        "id": "view-in-github",
        "colab_type": "text"
      },
      "source": [
        "<a href=\"https://colab.research.google.com/github/baeyoungjun1216/Homework/blob/main/Untitled16.ipynb\" target=\"_parent\"><img src=\"https://colab.research.google.com/assets/colab-badge.svg\" alt=\"Open In Colab\"/></a>"
      ]
    },
    {
      "cell_type": "code",
      "execution_count": null,
      "metadata": {
        "id": "ItpKcqj_bciG"
      },
      "outputs": [],
      "source": [
        "for 변수 in 범위:\n",
        "  반복적으로 실행할 코드\n",
        "strData = 'abcdef'\n",
        "for c in strData:\n",
        "  print(c,end='-')\n",
        "\n",
        "listData = [1,2,3,4,5]\n",
        "for idx in listData:\n",
        "  print(idx,end='-')\n",
        "\n",
        "ascii_codes = {'a':97,'b'98,'c':99}\n",
        "for code in ascii_codes.items():\n",
        "  print(code)\n",
        "\n",
        "for i in rnage(10):\n",
        "  print(i,end='#')\n",
        "\n",
        "for 변수 in 범위\n",
        "\n",
        "  continue\n",
        "\n",
        "  break\n",
        "\n",
        "for i in [1,2,3,4,5]:\n",
        "  print(i)\n",
        "  if i <2:\n",
        "    continue\n",
        "  else\n",
        "    break\n",
        "\n",
        "for i in [1,2,3,4,5]:\n",
        "  print(i)\n",
        "  if i <2:\n",
        "    continue\n",
        "  else:\n",
        "    break\n",
        "\n",
        "  for i in [1,2,3,4,5]:\n",
        "    print(i)\n",
        "  if i == 2:\n",
        "    break\n"
      ]
    }
  ]
}