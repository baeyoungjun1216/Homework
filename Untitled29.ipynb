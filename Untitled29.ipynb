{
  "nbformat": 4,
  "nbformat_minor": 0,
  "metadata": {
    "colab": {
      "provenance": [],
      "authorship_tag": "ABX9TyNIio47QB7VGrLVdthpRBeU",
      "include_colab_link": true
    },
    "kernelspec": {
      "name": "python3",
      "display_name": "Python 3"
    },
    "language_info": {
      "name": "python"
    }
  },
  "cells": [
    {
      "cell_type": "markdown",
      "metadata": {
        "id": "view-in-github",
        "colab_type": "text"
      },
      "source": [
        "<a href=\"https://colab.research.google.com/github/baeyoungjun1216/Homework/blob/main/Untitled29.ipynb\" target=\"_parent\"><img src=\"https://colab.research.google.com/assets/colab-badge.svg\" alt=\"Open In Colab\"/></a>"
      ]
    },
    {
      "cell_type": "code",
      "execution_count": null,
      "metadata": {
        "id": "jzrU_d1j4GiU"
      },
      "outputs": [],
      "source": [
        "x = 11113\n",
        "y = 23\n",
        "ret1 = x//y\n",
        "ret2 = x%y\n",
        "print(f'{x}을 (를){y}(으)로 나누면 몫이 {ret1}, 나머지가 {ret2}입니다.')\n",
        "\n",
        "x = 11113\n",
        "y = 23\n",
        "ret1,ret2 = divmod(x,y)\n",
        "print(f'{x}을 (를){y}(으)로 나누면 몫이 {ret1}, 나머지가 {ret2}입니다.')\n"
      ]
    }
  ]
}