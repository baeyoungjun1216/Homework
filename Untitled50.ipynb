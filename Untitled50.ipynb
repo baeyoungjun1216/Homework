{
  "nbformat": 4,
  "nbformat_minor": 0,
  "metadata": {
    "colab": {
      "provenance": [],
      "authorship_tag": "ABX9TyMn4lS6oFr9sfuqReGQFfpo",
      "include_colab_link": true
    },
    "kernelspec": {
      "name": "python3",
      "display_name": "Python 3"
    },
    "language_info": {
      "name": "python"
    }
  },
  "cells": [
    {
      "cell_type": "markdown",
      "metadata": {
        "id": "view-in-github",
        "colab_type": "text"
      },
      "source": [
        "<a href=\"https://colab.research.google.com/github/baeyoungjun1216/Homework/blob/main/Untitled50.ipynb\" target=\"_parent\"><img src=\"https://colab.research.google.com/assets/colab-badge.svg\" alt=\"Open In Colab\"/></a>"
      ]
    },
    {
      "cell_type": "code",
      "execution_count": null,
      "metadata": {
        "id": "ZG_QSNBUDXxl"
      },
      "outputs": [],
      "source": [
        "listData = [9.96, 1.27, 5.07, 6.45, 3.88, 9.29, 4.93, 7.73, 3.71, 0.93]\n",
        "print(max(listData))\n",
        "print(min(listData))\n",
        "\n",
        "strData = 'AlotofThingsOccureachday'\n",
        "print(max(strData))\n",
        "print(min(strData))\n",
        "\n",
        "strList = ['jang', 'apple12', '3sung', 'sam']\n",
        "print(max(strList))\n",
        "print(min(strList))\n",
        "\n",
        "list1 = [1, 2, 3, 'a', 'b', 'c']\n",
        "print(max(list1))  # TypeError 발생"
      ]
    }
  ]
}