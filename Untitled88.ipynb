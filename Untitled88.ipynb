{
  "nbformat": 4,
  "nbformat_minor": 0,
  "metadata": {
    "colab": {
      "provenance": [],
      "authorship_tag": "ABX9TyPl5qxvczynNR/k5FQoR6Ny",
      "include_colab_link": true
    },
    "kernelspec": {
      "name": "python3",
      "display_name": "Python 3"
    },
    "language_info": {
      "name": "python"
    }
  },
  "cells": [
    {
      "cell_type": "markdown",
      "metadata": {
        "id": "view-in-github",
        "colab_type": "text"
      },
      "source": [
        "<a href=\"https://colab.research.google.com/github/baeyoungjun1216/Homework/blob/main/Untitled88.ipynb\" target=\"_parent\"><img src=\"https://colab.research.google.com/assets/colab-badge.svg\" alt=\"Open In Colab\"/></a>"
      ]
    },
    {
      "cell_type": "code",
      "execution_count": null,
      "metadata": {
        "id": "2ZoTKYhDUtdo"
      },
      "outputs": [],
      "source": [
        "randstr = 'nk315nnkakkavnzrit'\n",
        "ret = sorted(randstr)\n",
        "print(ret)\n",
        "\n",
        "final = ''.join(ret)\n",
        "print(final)"
      ]
    }
  ]
}