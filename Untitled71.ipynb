{
  "nbformat": 4,
  "nbformat_minor": 0,
  "metadata": {
    "colab": {
      "provenance": [],
      "authorship_tag": "ABX9TyNI3UwRPTACAhj5ayJx3jeH",
      "include_colab_link": true
    },
    "kernelspec": {
      "name": "python3",
      "display_name": "Python 3"
    },
    "language_info": {
      "name": "python"
    }
  },
  "cells": [
    {
      "cell_type": "markdown",
      "metadata": {
        "id": "view-in-github",
        "colab_type": "text"
      },
      "source": [
        "<a href=\"https://colab.research.google.com/github/baeyoungjun1216/Homework/blob/main/Untitled71.ipynb\" target=\"_parent\"><img src=\"https://colab.research.google.com/assets/colab-badge.svg\" alt=\"Open In Colab\"/></a>"
      ]
    },
    {
      "cell_type": "code",
      "execution_count": null,
      "metadata": {
        "id": "RvdDnNlxNQOR"
      },
      "outputs": [],
      "source": [
        "strData1 = '안녕하세요'\n",
        "strData2 = \"작은따옴표는 '큰따옴표'를 포함하는 문자열이 가능합니다.\"\n",
        "print(strData1)\n",
        "print(strData2)\n",
        "\n",
        "strData3 = \"안녕하세요\"\n",
        "strData4 = '큰따옴표는 \"작은따옴표\"를 포함하는 문자열이 가능합니다.'\n",
        "print(strData3)\n",
        "print(strData4)\n",
        "\n",
        "strData5 = '''3중 작은따옴표는\n",
        "여러 줄에 걸친 문자열이 가능합니다.'''\n",
        "print(strData5)\n",
        "\n",
        "strData6 = \"\"\"3중 큰따옴표 역시\n",
        "여러 줄에 걸친 문자열이 가능합니다\"\"\"\n",
        "print(strData6)\n",
        "\n",
        "while ret != None:\n",
        "    \"\"\"print(f'큐에서 데이터 추출: {ret}')\n",
        "    print(f'큐상태: {myqueue}')\n",
        "    print('----------------')\"\"\"  # 여러 줄의 주석처리 예\n",
        "    ret = popData()"
      ]
    }
  ]
}