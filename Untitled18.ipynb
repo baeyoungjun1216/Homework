{
  "nbformat": 4,
  "nbformat_minor": 0,
  "metadata": {
    "colab": {
      "provenance": [],
      "authorship_tag": "ABX9TyMIZp8gtE4hCY+wHcGspoQQ",
      "include_colab_link": true
    },
    "kernelspec": {
      "name": "python3",
      "display_name": "Python 3"
    },
    "language_info": {
      "name": "python"
    }
  },
  "cells": [
    {
      "cell_type": "markdown",
      "metadata": {
        "id": "view-in-github",
        "colab_type": "text"
      },
      "source": [
        "<a href=\"https://colab.research.google.com/github/baeyoungjun1216/Homework/blob/main/Untitled18.ipynb\" target=\"_parent\"><img src=\"https://colab.research.google.com/assets/colab-badge.svg\" alt=\"Open In Colab\"/></a>"
      ]
    },
    {
      "cell_type": "code",
      "execution_count": null,
      "metadata": {
        "id": "UKPd3kyTfJoM"
      },
      "outputs": [],
      "source": [
        "while 조건:\n",
        "  조건이 참일때 반복 실행 코드\n",
        "continue\n",
        "\n",
        "break\n",
        "\n",
        "x=0\n",
        "while x <10:\n",
        "  x = x+1\n",
        "  if x <3:\n",
        "    continue\n",
        "\n",
        "  print(x)\n",
        "  if x >4:\n",
        "    break\n",
        "\n",
        "n=1\n",
        "total = 0\n",
        "while True:\n",
        "  total = toatal + n\n",
        "  if total > 100000:\n",
        "    print ('1+2+...+n값이 10만 보다 커지게 되는 n:',n)\n",
        "    print ('이때 총합은',total)\n",
        "    break\n",
        "  n= n+1"
      ]
    }
  ]
}