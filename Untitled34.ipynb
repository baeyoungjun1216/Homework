{
  "nbformat": 4,
  "nbformat_minor": 0,
  "metadata": {
    "colab": {
      "provenance": [],
      "authorship_tag": "ABX9TyPz+wKRiUDmIPWUbAVWOVXf",
      "include_colab_link": true
    },
    "kernelspec": {
      "name": "python3",
      "display_name": "Python 3"
    },
    "language_info": {
      "name": "python"
    }
  },
  "cells": [
    {
      "cell_type": "markdown",
      "metadata": {
        "id": "view-in-github",
        "colab_type": "text"
      },
      "source": [
        "<a href=\"https://colab.research.google.com/github/baeyoungjun1216/Homework/blob/main/Untitled34.ipynb\" target=\"_parent\"><img src=\"https://colab.research.google.com/assets/colab-badge.svg\" alt=\"Open In Colab\"/></a>"
      ]
    },
    {
      "cell_type": "code",
      "execution_count": null,
      "metadata": {
        "id": "DIoiUrhj5O67"
      },
      "outputs": [],
      "source": [
        "iterableData1 = [1, 2, 3, 4]           # 리스트\n",
        "iterableData2 = ('a', 'b', 'c')        # 튜플\n",
        "iterableData3 = 'I love python!'       # 문자열\n",
        "iterableData4 = {97: 'a', 98: 'b'}     # 딕셔너리\n",
        "iterableData5 = {'사과', '배', '오렌지'} # set 자료\n",
        "iterableData6 = range(10)              # range() 객체"
      ]
    }
  ]
}