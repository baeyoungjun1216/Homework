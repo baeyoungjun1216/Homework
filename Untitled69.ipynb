{
  "nbformat": 4,
  "nbformat_minor": 0,
  "metadata": {
    "colab": {
      "provenance": [],
      "authorship_tag": "ABX9TyNwUFpxqUU9OrMGZJPi5yqx",
      "include_colab_link": true
    },
    "kernelspec": {
      "name": "python3",
      "display_name": "Python 3"
    },
    "language_info": {
      "name": "python"
    }
  },
  "cells": [
    {
      "cell_type": "markdown",
      "metadata": {
        "id": "view-in-github",
        "colab_type": "text"
      },
      "source": [
        "<a href=\"https://colab.research.google.com/github/baeyoungjun1216/Homework/blob/main/Untitled69.ipynb\" target=\"_parent\"><img src=\"https://colab.research.google.com/assets/colab-badge.svg\" alt=\"Open In Colab\"/></a>"
      ]
    },
    {
      "cell_type": "code",
      "execution_count": null,
      "metadata": {
        "id": "yWbudZ3uMlI_"
      },
      "outputs": [],
      "source": [
        "import collections\n",
        "myqueue = collections.deque([])\n",
        "\n",
        "def putData(data):\n",
        "    myqueue.append(data)\n",
        "\n",
        "def popData():\n",
        "    if len(myqueue) == 0:\n",
        "        return None\n",
        "    return myqueue.popleft()\n",
        "\n",
        "putData('사과')\n",
        "putData([1, 2, 3])\n",
        "putData(3.141592)\n",
        "print(f'큐상태: {myqueue}')\n",
        "\n",
        "ret = popData()\n",
        "while ret != None:\n",
        "    print(f'큐에서 데이터 추출: {ret}')\n",
        "    print(f'큐상태: {myqueue}')\n",
        "    print('----------------')\n",
        "    ret = popData()"
      ]
    }
  ]
}