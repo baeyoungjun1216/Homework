{
  "nbformat": 4,
  "nbformat_minor": 0,
  "metadata": {
    "colab": {
      "provenance": [],
      "authorship_tag": "ABX9TyNs46aXx/rIYmCNI4igi3iE",
      "include_colab_link": true
    },
    "kernelspec": {
      "name": "python3",
      "display_name": "Python 3"
    },
    "language_info": {
      "name": "python"
    }
  },
  "cells": [
    {
      "cell_type": "markdown",
      "metadata": {
        "id": "view-in-github",
        "colab_type": "text"
      },
      "source": [
        "<a href=\"https://colab.research.google.com/github/baeyoungjun1216/Homework/blob/main/Untitled30.ipynb\" target=\"_parent\"><img src=\"https://colab.research.google.com/assets/colab-badge.svg\" alt=\"Open In Colab\"/></a>"
      ]
    },
    {
      "cell_type": "code",
      "execution_count": null,
      "metadata": {
        "id": "J9YaXnjy59PI"
      },
      "outputs": [],
      "source": [
        "ret = round(42.195)\n",
        "print(ret)\n",
        "\n",
        "ret = round(42.195,0)\n",
        "print(ret)\n",
        "\n",
        "ret = round(42.195,1)\n",
        "print(ret)\n",
        "\n",
        "ret = round(42.195,-1)\n",
        "print(ret)"
      ]
    }
  ]
}