{
  "nbformat": 4,
  "nbformat_minor": 0,
  "metadata": {
    "colab": {
      "provenance": [],
      "authorship_tag": "ABX9TyNFqBeX9PEhhWrz8LHoiLPL",
      "include_colab_link": true
    },
    "kernelspec": {
      "name": "python3",
      "display_name": "Python 3"
    },
    "language_info": {
      "name": "python"
    }
  },
  "cells": [
    {
      "cell_type": "markdown",
      "metadata": {
        "id": "view-in-github",
        "colab_type": "text"
      },
      "source": [
        "<a href=\"https://colab.research.google.com/github/baeyoungjun1216/Homework/blob/main/Untitled95.ipynb\" target=\"_parent\"><img src=\"https://colab.research.google.com/assets/colab-badge.svg\" alt=\"Open In Colab\"/></a>"
      ]
    },
    {
      "cell_type": "code",
      "execution_count": null,
      "metadata": {
        "id": "2v93AmgjXL9P"
      },
      "outputs": [],
      "source": [
        "bytesData = b'/xec/x82/xac/xeb/x9e/x91/xed/x95/x98/xec/x9a/x94'\n",
        "strData = bytesData.decode()\n",
        "print(strData)\n",
        "\n",
        "bytesData = b'/xbb/xe7/xb6/xfb/xc7/xd8/xbf/xe4'\n",
        "strData = bytesData.decode()\n",
        "print(strData)"
      ]
    }
  ]
}