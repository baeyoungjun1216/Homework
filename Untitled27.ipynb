{
  "nbformat": 4,
  "nbformat_minor": 0,
  "metadata": {
    "colab": {
      "provenance": [],
      "authorship_tag": "ABX9TyNbNAnNx88LYORqqNygnyVo",
      "include_colab_link": true
    },
    "kernelspec": {
      "name": "python3",
      "display_name": "Python 3"
    },
    "language_info": {
      "name": "python"
    }
  },
  "cells": [
    {
      "cell_type": "markdown",
      "metadata": {
        "id": "view-in-github",
        "colab_type": "text"
      },
      "source": [
        "<a href=\"https://colab.research.google.com/github/baeyoungjun1216/Homework/blob/main/Untitled27.ipynb\" target=\"_parent\"><img src=\"https://colab.research.google.com/assets/colab-badge.svg\" alt=\"Open In Colab\"/></a>"
      ]
    },
    {
      "cell_type": "code",
      "execution_count": null,
      "metadata": {
        "id": "jGLzcJy01xd5"
      },
      "outputs": [],
      "source": [
        "cData1 = 1+1j\n",
        "cData = complex(1,1)\n",
        "print (cData1 == cData2)\n",
        "\n",
        "print(cData1.real)\n",
        "print(cData2.imag)\n",
        "\n",
        "complexData1 = 1-5j\n",
        "complexData2 = complex(2,3)\n",
        "print (complexData1.conjugate())\n",
        "print (complexData2.conjugate())"
      ]
    }
  ]
}