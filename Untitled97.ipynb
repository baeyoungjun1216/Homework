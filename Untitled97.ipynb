{
  "nbformat": 4,
  "nbformat_minor": 0,
  "metadata": {
    "colab": {
      "provenance": [],
      "authorship_tag": "ABX9TyNCSiloBnYn79KK/XcokFbB",
      "include_colab_link": true
    },
    "kernelspec": {
      "name": "python3",
      "display_name": "Python 3"
    },
    "language_info": {
      "name": "python"
    }
  },
  "cells": [
    {
      "cell_type": "markdown",
      "metadata": {
        "id": "view-in-github",
        "colab_type": "text"
      },
      "source": [
        "<a href=\"https://colab.research.google.com/github/baeyoungjun1216/Homework/blob/main/Untitled97.ipynb\" target=\"_parent\"><img src=\"https://colab.research.google.com/assets/colab-badge.svg\" alt=\"Open In Colab\"/></a>"
      ]
    },
    {
      "cell_type": "code",
      "execution_count": null,
      "metadata": {
        "id": "f2ZBuof0Y-3o"
      },
      "outputs": [],
      "source": [
        "setData = {'사과', '배', '사과', '수박', '오렌지'}\n",
        "print(setData)\n",
        "\n",
        "print(setData)  # 한 번 더 호출\n",
        "\n",
        "strData = 'abcabccdef'\n",
        "setData = set(strData)\n",
        "print(setData)\n",
        "\n",
        "fruits = ('사과', '배', '수박', '배', '사과', '오렌지')\n",
        "setData = set(fruits)\n",
        "print(setData)"
      ]
    }
  ]
}