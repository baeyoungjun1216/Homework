{
  "nbformat": 4,
  "nbformat_minor": 0,
  "metadata": {
    "colab": {
      "provenance": [],
      "authorship_tag": "ABX9TyOSFZDAf4P88MF9P34rOmnP",
      "include_colab_link": true
    },
    "kernelspec": {
      "name": "python3",
      "display_name": "Python 3"
    },
    "language_info": {
      "name": "python"
    }
  },
  "cells": [
    {
      "cell_type": "markdown",
      "metadata": {
        "id": "view-in-github",
        "colab_type": "text"
      },
      "source": [
        "<a href=\"https://colab.research.google.com/github/baeyoungjun1216/Homework/blob/main/Untitled38.ipynb\" target=\"_parent\"><img src=\"https://colab.research.google.com/assets/colab-badge.svg\" alt=\"Open In Colab\"/></a>"
      ]
    },
    {
      "cell_type": "code",
      "execution_count": null,
      "metadata": {
        "id": "XeYCxIdM7IlW"
      },
      "outputs": [],
      "source": [
        "filter(func, iterable)\n",
        "\n",
        "def getPrime(x):\n",
        "    if x <= 1 or x % 2 == 0:\n",
        "        return False\n",
        "    for i in range(3, int(x ** 0.5) + 1, 2):\n",
        "        if x % i == 0:\n",
        "            return False\n",
        "    return True\n",
        "\n",
        "intList = [x for x in range(1, 101)]\n",
        "ret = filter(getPrime, intList)\n",
        "for p in ret:\n",
        "    print(p, end=' ')"
      ]
    }
  ]
}