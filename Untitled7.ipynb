{
  "nbformat": 4,
  "nbformat_minor": 0,
  "metadata": {
    "colab": {
      "provenance": [],
      "authorship_tag": "ABX9TyOCoGxtC4+w9uTq867cPsHm",
      "include_colab_link": true
    },
    "kernelspec": {
      "name": "python3",
      "display_name": "Python 3"
    },
    "language_info": {
      "name": "python"
    }
  },
  "cells": [
    {
      "cell_type": "markdown",
      "metadata": {
        "id": "view-in-github",
        "colab_type": "text"
      },
      "source": [
        "<a href=\"https://colab.research.google.com/github/baeyoungjun1216/Homework/blob/main/Untitled7.ipynb\" target=\"_parent\"><img src=\"https://colab.research.google.com/assets/colab-badge.svg\" alt=\"Open In Colab\"/></a>"
      ]
    },
    {
      "cell_type": "code",
      "execution_count": null,
      "metadata": {
        "id": "kvnAebkQy4xX"
      },
      "outputs": [],
      "source": [
        "inData = 15           #정수데이터\n",
        "floatData = 2.5       #실수복소수\n",
        "complexData = 1+ 1j   #복소수 데이터\n",
        "\n",
        "isTrue = True\n",
        "isFalse = False\n",
        "\n",
        "setData= {1,2,3,4,5}\n",
        "\n",
        "dictData = {0:False,1:True}"
      ]
    }
  ]
}