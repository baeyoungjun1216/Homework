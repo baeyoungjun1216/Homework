{
  "nbformat": 4,
  "nbformat_minor": 0,
  "metadata": {
    "colab": {
      "provenance": [],
      "authorship_tag": "ABX9TyP9rJ75UwCjfMBqTqDOyRSU",
      "include_colab_link": true
    },
    "kernelspec": {
      "name": "python3",
      "display_name": "Python 3"
    },
    "language_info": {
      "name": "python"
    }
  },
  "cells": [
    {
      "cell_type": "markdown",
      "metadata": {
        "id": "view-in-github",
        "colab_type": "text"
      },
      "source": [
        "<a href=\"https://colab.research.google.com/github/baeyoungjun1216/Homework/blob/main/Untitled20.ipynb\" target=\"_parent\"><img src=\"https://colab.research.google.com/assets/colab-badge.svg\" alt=\"Open In Colab\"/></a>"
      ]
    },
    {
      "cell_type": "code",
      "execution_count": null,
      "metadata": {
        "id": "ORM1qU6ghN-z"
      },
      "outputs": [],
      "source": [
        "http_satus = 400\n",
        "match http_status:\n",
        "  case 400:\n",
        "    print('Bad Request')\n",
        "  case 401:\n",
        "    print('Unauthorized')\n",
        "  case 403:\n",
        "    print('Forbidden')\n",
        "  case 404:\n",
        "    print('Not Found')\n",
        "  case_:\n",
        "    print('기타 인터넷 문제로 뭔가 잘못됨')\n",
        "\n",
        "http_satus = 302\n",
        "match http_status:\n",
        "  case 200|202|203:\n",
        "    print('succes')\n",
        "  case 301|302|303:\n",
        "    print('Redirection')\n",
        "  case 400|401|403|404:\n",
        "    print('Client Errors')\n",
        "  case_:\n",
        "    print ('HTTP 응답코드')\n",
        "\n",
        "  point = (0,0)\n",
        "  match point:\n",
        "    case (0,0):\n",
        "      print('원점 좌표')\n",
        "    case(x,0):\n",
        "      print(f'x축 위의 점이며 x의 값은{x}')\n",
        "    case(0,y):\n",
        "      print(f'y축 위의 점이며 x의 값은{y}')\n",
        "    case  (x,y):\n",
        "      print(f'(x,y) = ({x},{y})')\n",
        "    case_:\n",
        "      print('오류 2차원 좌표가 아님')\n",
        "\n",
        ""
      ]
    }
  ]
}