{
  "nbformat": 4,
  "nbformat_minor": 0,
  "metadata": {
    "colab": {
      "provenance": [],
      "authorship_tag": "ABX9TyM+iAFXXPebDp9gBUwVVLgs",
      "include_colab_link": true
    },
    "kernelspec": {
      "name": "python3",
      "display_name": "Python 3"
    },
    "language_info": {
      "name": "python"
    }
  },
  "cells": [
    {
      "cell_type": "markdown",
      "metadata": {
        "id": "view-in-github",
        "colab_type": "text"
      },
      "source": [
        "<a href=\"https://colab.research.google.com/github/baeyoungjun1216/Homework/blob/main/Untitled68.ipynb\" target=\"_parent\"><img src=\"https://colab.research.google.com/assets/colab-badge.svg\" alt=\"Open In Colab\"/></a>"
      ]
    },
    {
      "cell_type": "code",
      "execution_count": null,
      "metadata": {
        "id": "tV18HCwoMNYH"
      },
      "outputs": [],
      "source": [
        "mystack = []\n",
        "\n",
        "def putData(data):\n",
        "    mystack.append(data)\n",
        "\n",
        "    def popData():\n",
        "    if len(mystack) == 0:\n",
        "        return None\n",
        "    return mystack.pop()\n",
        "\n",
        "putData('사과')\n",
        "putData([1, 2, 3])\n",
        "putData(3.141592)\n",
        "print(f'스택상태: {mystack}')\n",
        "\n",
        "ret = popData()\n",
        "while ret != None:\n",
        "    print(f'스택에서 데이터 추출: {ret}')\n",
        "    print(f'스택상태: {mystack}')\n",
        "    print('----------------')\n",
        "    ret = popData()"
      ]
    }
  ]
}