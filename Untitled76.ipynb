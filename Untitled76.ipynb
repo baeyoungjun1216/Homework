{
  "nbformat": 4,
  "nbformat_minor": 0,
  "metadata": {
    "colab": {
      "provenance": [],
      "authorship_tag": "ABX9TyPGKC5mHRRoUXapjWKM4Rud",
      "include_colab_link": true
    },
    "kernelspec": {
      "name": "python3",
      "display_name": "Python 3"
    },
    "language_info": {
      "name": "python"
    }
  },
  "cells": [
    {
      "cell_type": "markdown",
      "metadata": {
        "id": "view-in-github",
        "colab_type": "text"
      },
      "source": [
        "<a href=\"https://colab.research.google.com/github/baeyoungjun1216/Homework/blob/main/Untitled76.ipynb\" target=\"_parent\"><img src=\"https://colab.research.google.com/assets/colab-badge.svg\" alt=\"Open In Colab\"/></a>"
      ]
    },
    {
      "cell_type": "code",
      "execution_count": 1,
      "metadata": {
        "colab": {
          "base_uri": "https://localhost:8080/"
        },
        "id": "qKe31RmQQLkO",
        "outputId": "d4f1613f-d4a3-4746-d85c-7197bfa71bca"
      },
      "outputs": [
        {
          "output_type": "stream",
          "name": "stdout",
          "text": [
            "원주율의 근사값은 3.141592 입니다.\n",
            "원주율의 근사값은 3.14 입니다.\n",
            "서울: 8,789,911 명\n",
            "서울: population=8,789,911\n"
          ]
        }
      ],
      "source": [
        "title = '원주율'\n",
        "pi = 3.141592\n",
        "print(f'{title}의 근사값은 {pi} 입니다.')\n",
        "\n",
        "print(f'{title}의 근사값은 {pi:.2f} 입니다.')\n",
        "\n",
        "city = '서울'\n",
        "population = 8789911\n",
        "print(f'{city}: {population:,} 명')\n",
        "\n",
        "print(f'{city}: {population=:,d}')"
      ]
    }
  ]
}