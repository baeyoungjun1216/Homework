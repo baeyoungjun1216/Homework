{
  "nbformat": 4,
  "nbformat_minor": 0,
  "metadata": {
    "colab": {
      "provenance": [],
      "authorship_tag": "ABX9TyOuAQQIdWbw1AnBoxs9Pvjg",
      "include_colab_link": true
    },
    "kernelspec": {
      "name": "python3",
      "display_name": "Python 3"
    },
    "language_info": {
      "name": "python"
    }
  },
  "cells": [
    {
      "cell_type": "markdown",
      "metadata": {
        "id": "view-in-github",
        "colab_type": "text"
      },
      "source": [
        "<a href=\"https://colab.research.google.com/github/baeyoungjun1216/Homework/blob/main/Untitled48.ipynb\" target=\"_parent\"><img src=\"https://colab.research.google.com/assets/colab-badge.svg\" alt=\"Open In Colab\"/></a>"
      ]
    },
    {
      "cell_type": "code",
      "execution_count": null,
      "metadata": {
        "id": "x3iAPUemCVTw"
      },
      "outputs": [],
      "source": [
        "wise_saying = \"Time is money! Don't waste your time!\"\n",
        "print(wise_saying[6:10])\n",
        "\n",
        "print(wise_saying[:5])\n",
        "\n",
        "print(wise_saying[15:])\n",
        "\n",
        "print(wise_saying[:-1])\n",
        "\n",
        "print(wise_saying[-5:])\n",
        "\n",
        "print(wise_saying[:])\n",
        "\n",
        "intList = [0, 1, 2, 3, 4, 5, 6, 7, 8, 9]\n",
        "print(intList[::2])\n",
        "\n",
        "print(intList[1::2])"
      ]
    }
  ]
}