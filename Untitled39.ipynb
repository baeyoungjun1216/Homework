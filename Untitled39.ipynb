{
  "nbformat": 4,
  "nbformat_minor": 0,
  "metadata": {
    "colab": {
      "provenance": [],
      "authorship_tag": "ABX9TyNKOHTnmivyqjJCP4zx5yKl",
      "include_colab_link": true
    },
    "kernelspec": {
      "name": "python3",
      "display_name": "Python 3"
    },
    "language_info": {
      "name": "python"
    }
  },
  "cells": [
    {
      "cell_type": "markdown",
      "metadata": {
        "id": "view-in-github",
        "colab_type": "text"
      },
      "source": [
        "<a href=\"https://colab.research.google.com/github/baeyoungjun1216/Homework/blob/main/Untitled39.ipynb\" target=\"_parent\"><img src=\"https://colab.research.google.com/assets/colab-badge.svg\" alt=\"Open In Colab\"/></a>"
      ]
    },
    {
      "cell_type": "code",
      "execution_count": null,
      "metadata": {
        "id": "43njbEJ970bQ"
      },
      "outputs": [],
      "source": [
        "numList = [1, 3, 5, 7, 9]\n",
        "ret = sum(numList)\n",
        "print(ret)       # 25\n",
        "\n",
        "ret = sum(numList, 10)\n",
        "print(ret)       # 35\n",
        "\n",
        "randomList = [1, 2, 'SAMSUNG', 'LG']\n",
        "sum(randomList)"
      ]
    }
  ]
}