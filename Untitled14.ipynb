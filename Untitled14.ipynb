{
  "nbformat": 4,
  "nbformat_minor": 0,
  "metadata": {
    "colab": {
      "provenance": [],
      "authorship_tag": "ABX9TyPrLk+hQwj8HhuDZi5x14Yt",
      "include_colab_link": true
    },
    "kernelspec": {
      "name": "python3",
      "display_name": "Python 3"
    },
    "language_info": {
      "name": "python"
    }
  },
  "cells": [
    {
      "cell_type": "markdown",
      "metadata": {
        "id": "view-in-github",
        "colab_type": "text"
      },
      "source": [
        "<a href=\"https://colab.research.google.com/github/baeyoungjun1216/Homework/blob/main/Untitled14.ipynb\" target=\"_parent\"><img src=\"https://colab.research.google.com/assets/colab-badge.svg\" alt=\"Open In Colab\"/></a>"
      ]
    },
    {
      "cell_type": "code",
      "execution_count": null,
      "metadata": {
        "id": "zxBJYwULXPF4"
      },
      "outputs": [],
      "source": [
        "Flag1 = True\n",
        "Falg2 = False\n",
        "print(flag1 == 1)\n",
        "print(flag2 !=0)\n",
        "\n",
        "While True:\n",
        "  실행코드\n",
        "\n",
        "While True:\n",
        "  실행코드\n",
        "  if 조건 == True:\n",
        "    break\n",
        "\n"
      ]
    }
  ]
}