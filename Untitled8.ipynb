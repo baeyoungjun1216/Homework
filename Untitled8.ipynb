{
  "nbformat": 4,
  "nbformat_minor": 0,
  "metadata": {
    "colab": {
      "provenance": [],
      "authorship_tag": "ABX9TyP+LG24F1Vwm53uxYPXQu0x",
      "include_colab_link": true
    },
    "kernelspec": {
      "name": "python3",
      "display_name": "Python 3"
    },
    "language_info": {
      "name": "python"
    }
  },
  "cells": [
    {
      "cell_type": "markdown",
      "metadata": {
        "id": "view-in-github",
        "colab_type": "text"
      },
      "source": [
        "<a href=\"https://colab.research.google.com/github/baeyoungjun1216/Homework/blob/main/Untitled8.ipynb\" target=\"_parent\"><img src=\"https://colab.research.google.com/assets/colab-badge.svg\" alt=\"Open In Colab\"/></a>"
      ]
    },
    {
      "cell_type": "code",
      "execution_count": null,
      "metadata": {
        "id": "f3k21AIA17wh"
      },
      "outputs": [],
      "source": [
        "strData = 'I love python!'\n",
        "print (len(strData))\n",
        "\n",
        "listData = [1,2,3,4,5]\n",
        "print(len(listData))\n",
        "\n",
        "tupleData = ('a','bc','def')\n",
        "print(len(tupleData))\n",
        "\n",
        "setData = {'cup','shose','shirts','pants'}\n",
        "print(len(setData))\n",
        "\n",
        "dictData = {1:True,0:False}\n",
        "print(len(dictData))\n"
      ]
    }
  ]
}