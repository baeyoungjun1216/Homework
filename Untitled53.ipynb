{
  "nbformat": 4,
  "nbformat_minor": 0,
  "metadata": {
    "colab": {
      "provenance": [],
      "authorship_tag": "ABX9TyPsvQOBBdyvus0D2r6rkGwr",
      "include_colab_link": true
    },
    "kernelspec": {
      "name": "python3",
      "display_name": "Python 3"
    },
    "language_info": {
      "name": "python"
    }
  },
  "cells": [
    {
      "cell_type": "markdown",
      "metadata": {
        "id": "view-in-github",
        "colab_type": "text"
      },
      "source": [
        "<a href=\"https://colab.research.google.com/github/baeyoungjun1216/Homework/blob/main/Untitled53.ipynb\" target=\"_parent\"><img src=\"https://colab.research.google.com/assets/colab-badge.svg\" alt=\"Open In Colab\"/></a>"
      ]
    },
    {
      "cell_type": "code",
      "execution_count": null,
      "metadata": {
        "id": "mGS03JwZFLK5"
      },
      "outputs": [],
      "source": [
        "fruits = ('사과', '배', '참외', '수박', '배', '오렌지')\n",
        "pos = fruits.index('배')\n",
        "print(f'배는 {pos+1}번째 과일입니다.')\n",
        "\n",
        "fruits = ('사과', '배', '참외', '수박', '배', '오렌지')\n",
        "pos = fruits.index('배', 3)\n",
        "print(f'배는 {pos+1}번째 과일입니다.')\n",
        "\n",
        "fruits = ('사과', '배', '참외', '수박', '배', '오렌지')\n",
        "pos = fruits.index('사과', 3)\n",
        "print(f'사과는 {pos+1}번째 과일입니다.')"
      ]
    }
  ]
}