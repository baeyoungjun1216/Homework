{
  "nbformat": 4,
  "nbformat_minor": 0,
  "metadata": {
    "colab": {
      "provenance": [],
      "authorship_tag": "ABX9TyPaONDDStU6ShPVVupII69/",
      "include_colab_link": true
    },
    "kernelspec": {
      "name": "python3",
      "display_name": "Python 3"
    },
    "language_info": {
      "name": "python"
    }
  },
  "cells": [
    {
      "cell_type": "markdown",
      "metadata": {
        "id": "view-in-github",
        "colab_type": "text"
      },
      "source": [
        "<a href=\"https://colab.research.google.com/github/baeyoungjun1216/Homework/blob/main/Untitled52.ipynb\" target=\"_parent\"><img src=\"https://colab.research.google.com/assets/colab-badge.svg\" alt=\"Open In Colab\"/></a>"
      ]
    },
    {
      "cell_type": "code",
      "execution_count": null,
      "metadata": {
        "id": "4IqjoLpMEywP"
      },
      "outputs": [],
      "source": [
        "lyrics = 'A lot of things occur each day! every day!'\n",
        "flag = 'things' in lyrics\n",
        "print(flag)\n",
        "\n",
        "lyrics = 'A lot of things occur each day! every day!'\n",
        "flag = 'today' not in lyrics\n",
        "print(flag)\n",
        "\n",
        "urlList = ['url1', 'url2', 'url3']\n",
        "if 'url4' in urlList:\n",
        "    print('url4가 urlList의 요소로 존재합니다.')\n",
        "else:\n",
        "    print('url4가 urlList의 요소로 존재하지 않습니다.')\n"
      ]
    }
  ]
}