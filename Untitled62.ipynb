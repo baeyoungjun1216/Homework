{
  "nbformat": 4,
  "nbformat_minor": 0,
  "metadata": {
    "colab": {
      "provenance": [],
      "authorship_tag": "ABX9TyOPLZZ/i9tUKXYQWtU3bshL",
      "include_colab_link": true
    },
    "kernelspec": {
      "name": "python3",
      "display_name": "Python 3"
    },
    "language_info": {
      "name": "python"
    }
  },
  "cells": [
    {
      "cell_type": "markdown",
      "metadata": {
        "id": "view-in-github",
        "colab_type": "text"
      },
      "source": [
        "<a href=\"https://colab.research.google.com/github/baeyoungjun1216/Homework/blob/main/Untitled62.ipynb\" target=\"_parent\"><img src=\"https://colab.research.google.com/assets/colab-badge.svg\" alt=\"Open In Colab\"/></a>"
      ]
    },
    {
      "cell_type": "code",
      "execution_count": null,
      "metadata": {
        "id": "bekhe1erKJt4"
      },
      "outputs": [],
      "source": [
        "outer_planets = ['목성', '천왕성', '해왕성']\n",
        "pos = outer_planets.index('천왕성')\n",
        "outer_planets.insert(pos, '토성')\n",
        "print(outer_planets)\n",
        "\n",
        "outer_planets.insert(-1, '명왕성')\n",
        "print(outer_planets)\n",
        "\n",
        "outer_planets = ['목성', '토성', '천왕성', '해왕성']\n",
        "outer_planets.insert(len(outer_planets), '명왕성')\n",
        "print(outer_planets)\n"
      ]
    }
  ]
}